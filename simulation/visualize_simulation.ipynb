{
 "cells": [
  {
   "cell_type": "code",
   "execution_count": null,
   "metadata": {},
   "outputs": [],
   "source": [
    "import requests\n",
    "import folium\n",
    "import polyline\n",
    "import json\n"
   ]
  },
  {
   "cell_type": "code",
   "execution_count": null,
   "metadata": {},
   "outputs": [],
   "source": [
    "\n",
    "def get_route(pickup_lon, pickup_lat, dropoff_lon, dropoff_lat):    \n",
    "    loc = \"{},{};{},{}\".format(pickup_lon, pickup_lat, dropoff_lon, dropoff_lat)\n",
    "    url = \"http://router.project-osrm.org/route/v1/driving/\"\n",
    "    r = requests.get(url + loc) \n",
    "    if r.status_code!= 200:\n",
    "        return {}\n",
    "    res = r.json()   \n",
    "    routes = polyline.decode(res['routes'][0]['geometry'])\n",
    "    start_point = [res['waypoints'][0]['location'][1], res['waypoints'][0]['location'][0]]\n",
    "    end_point = [res['waypoints'][1]['location'][1], res['waypoints'][1]['location'][0]]\n",
    "    distance = res['routes'][0]['distance']\n",
    "    \n",
    "    out = {'route':routes,\n",
    "           'start_point':start_point,\n",
    "           'end_point':end_point,\n",
    "           'distance':distance\n",
    "          }\n",
    "\n",
    "    return out\n"
   ]
  },
  {
   "cell_type": "code",
   "execution_count": null,
   "metadata": {},
   "outputs": [],
   "source": [
    "\n",
    "    \n",
    "def get_map(route, line=True):\n",
    "    \n",
    "    m = folium.Map(location=[(route['start_point'][0] + route['end_point'][0])/2, \n",
    "                             (route['start_point'][1] + route['end_point'][1])/2], \n",
    "                   zoom_start=13)\n",
    "\n",
    "    if line:\n",
    "        folium.PolyLine(\n",
    "            route['route'],\n",
    "            weight=8,\n",
    "            color='blue',\n",
    "            opacity=0.6\n",
    "        ).add_to(m)\n",
    "    else:\n",
    "        for idx, marker in enumerate(route['route']):\n",
    "            folium.Marker(\n",
    "            location=(marker[1], marker[0]),\n",
    "            icon=folium.Icon(icon='play', color=route['route_colors'][idx])\n",
    "        ).add_to(m)\n",
    "\n",
    "    folium.Marker(\n",
    "        location=route['start_point'],\n",
    "        icon=folium.Icon(icon='play', color='green')\n",
    "    ).add_to(m)\n",
    "\n",
    "    folium.Marker(\n",
    "        location=route['end_point'],\n",
    "        icon=folium.Icon(icon='stop', color='red')\n",
    "    ).add_to(m)\n",
    "\n",
    "    return m\n"
   ]
  },
  {
   "cell_type": "code",
   "execution_count": null,
   "metadata": {},
   "outputs": [],
   "source": [
    "\n",
    "pickup_lon, pickup_lat, dropoff_lon, dropoff_lat = 19.8512,45.246,19.841270,45.253672\n",
    "\n",
    "with open('route_visited.json', 'r') as j:\n",
    "     r = json.loads(j.read())['arr']\n",
    "     rt = r[0]\n",
    "     rc = r[1]\n",
    "test_route = {\n",
    "    'route': rt,\n",
    "    'start_point': (rt[0][1], rt[0][0]),\n",
    "    'end_point': ((rt[-1][1], rt[-1][0])),\n",
    "    'route_colors': rc\n",
    "}\n",
    "m=get_map(test_route, line=False)"
   ]
  },
  {
   "cell_type": "code",
   "execution_count": null,
   "metadata": {},
   "outputs": [],
   "source": [
    "test_route"
   ]
  },
  {
   "cell_type": "code",
   "execution_count": null,
   "metadata": {},
   "outputs": [],
   "source": [
    "m"
   ]
  }
 ],
 "metadata": {
  "kernelspec": {
   "display_name": "Python 3.10.6 ('venv': venv)",
   "language": "python",
   "name": "python3"
  },
  "language_info": {
   "codemirror_mode": {
    "name": "ipython",
    "version": 3
   },
   "file_extension": ".py",
   "mimetype": "text/x-python",
   "name": "python",
   "nbconvert_exporter": "python",
   "pygments_lexer": "ipython3",
   "version": "3.10.6"
  },
  "orig_nbformat": 4,
  "vscode": {
   "interpreter": {
    "hash": "a83f091e17d8fad614954e870a0363e8fc43776a6faa164ddb4a35e457a0d1d5"
   }
  }
 },
 "nbformat": 4,
 "nbformat_minor": 2
}
